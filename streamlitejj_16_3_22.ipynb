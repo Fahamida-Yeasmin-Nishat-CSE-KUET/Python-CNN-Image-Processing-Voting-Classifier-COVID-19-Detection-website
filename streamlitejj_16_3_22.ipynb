{
  "nbformat": 4,
  "nbformat_minor": 0,
  "metadata": {
    "colab": {
      "name": "streamlitejj 16/3/22.ipynb",
      "provenance": [],
      "collapsed_sections": []
    },
    "kernelspec": {
      "name": "python3",
      "display_name": "Python 3"
    }
  },
  "cells": [
    {
      "cell_type": "code",
      "metadata": {
        "colab": {
          "base_uri": "https://localhost:8080/"
        },
        "id": "eLQ8C5bAhaoJ",
        "outputId": "5b0c8660-3599-408a-e771-9948fa1c35ad"
      },
      "source": [
        "from google.colab import drive\n",
        "drive.mount('/content/drive/')"
      ],
      "execution_count": null,
      "outputs": [
        {
          "output_type": "stream",
          "name": "stdout",
          "text": [
            "Drive already mounted at /content/drive/; to attempt to forcibly remount, call drive.mount(\"/content/drive/\", force_remount=True).\n"
          ]
        }
      ]
    },
    {
      "cell_type": "code",
      "metadata": {
        "id": "KnARVT2X2jIj",
        "colab": {
          "base_uri": "https://localhost:8080/"
        },
        "outputId": "3543c78f-3fde-4ded-c3a2-d6f0997ac750"
      },
      "source": [
        "!pip install -U ipykernel"
      ],
      "execution_count": null,
      "outputs": [
        {
          "output_type": "stream",
          "name": "stdout",
          "text": [
            "Requirement already satisfied: ipykernel in /usr/local/lib/python3.7/dist-packages (6.9.2)\n",
            "Requirement already satisfied: jupyter-client<8.0 in /usr/local/lib/python3.7/dist-packages (from ipykernel) (5.3.5)\n",
            "Requirement already satisfied: ipython>=7.23.1 in /usr/local/lib/python3.7/dist-packages (from ipykernel) (7.32.0)\n",
            "Requirement already satisfied: matplotlib-inline<0.2.0,>=0.1.0 in /usr/local/lib/python3.7/dist-packages (from ipykernel) (0.1.3)\n",
            "Requirement already satisfied: nest-asyncio in /usr/local/lib/python3.7/dist-packages (from ipykernel) (1.5.4)\n",
            "Requirement already satisfied: psutil in /usr/local/lib/python3.7/dist-packages (from ipykernel) (5.4.8)\n",
            "Requirement already satisfied: traitlets<6.0,>=5.1.0 in /usr/local/lib/python3.7/dist-packages (from ipykernel) (5.1.1)\n",
            "Requirement already satisfied: debugpy<2.0,>=1.0.0 in /usr/local/lib/python3.7/dist-packages (from ipykernel) (1.0.0)\n",
            "Requirement already satisfied: tornado<7.0,>=4.2 in /usr/local/lib/python3.7/dist-packages (from ipykernel) (5.1.1)\n",
            "Requirement already satisfied: backcall in /usr/local/lib/python3.7/dist-packages (from ipython>=7.23.1->ipykernel) (0.2.0)\n",
            "Requirement already satisfied: setuptools>=18.5 in /usr/local/lib/python3.7/dist-packages (from ipython>=7.23.1->ipykernel) (57.4.0)\n",
            "Requirement already satisfied: prompt-toolkit!=3.0.0,!=3.0.1,<3.1.0,>=2.0.0 in /usr/local/lib/python3.7/dist-packages (from ipython>=7.23.1->ipykernel) (3.0.28)\n",
            "Requirement already satisfied: pygments in /usr/local/lib/python3.7/dist-packages (from ipython>=7.23.1->ipykernel) (2.6.1)\n",
            "Requirement already satisfied: pexpect>4.3 in /usr/local/lib/python3.7/dist-packages (from ipython>=7.23.1->ipykernel) (4.8.0)\n",
            "Requirement already satisfied: decorator in /usr/local/lib/python3.7/dist-packages (from ipython>=7.23.1->ipykernel) (4.4.2)\n",
            "Requirement already satisfied: jedi>=0.16 in /usr/local/lib/python3.7/dist-packages (from ipython>=7.23.1->ipykernel) (0.18.1)\n",
            "Requirement already satisfied: pickleshare in /usr/local/lib/python3.7/dist-packages (from ipython>=7.23.1->ipykernel) (0.7.5)\n",
            "Requirement already satisfied: parso<0.9.0,>=0.8.0 in /usr/local/lib/python3.7/dist-packages (from jedi>=0.16->ipython>=7.23.1->ipykernel) (0.8.3)\n",
            "Requirement already satisfied: python-dateutil>=2.1 in /usr/local/lib/python3.7/dist-packages (from jupyter-client<8.0->ipykernel) (2.8.2)\n",
            "Requirement already satisfied: pyzmq>=13 in /usr/local/lib/python3.7/dist-packages (from jupyter-client<8.0->ipykernel) (22.3.0)\n",
            "Requirement already satisfied: jupyter-core>=4.6.0 in /usr/local/lib/python3.7/dist-packages (from jupyter-client<8.0->ipykernel) (4.9.2)\n",
            "Requirement already satisfied: ptyprocess>=0.5 in /usr/local/lib/python3.7/dist-packages (from pexpect>4.3->ipython>=7.23.1->ipykernel) (0.7.0)\n",
            "Requirement already satisfied: wcwidth in /usr/local/lib/python3.7/dist-packages (from prompt-toolkit!=3.0.0,!=3.0.1,<3.1.0,>=2.0.0->ipython>=7.23.1->ipykernel) (0.2.5)\n",
            "Requirement already satisfied: six>=1.5 in /usr/local/lib/python3.7/dist-packages (from python-dateutil>=2.1->jupyter-client<8.0->ipykernel) (1.15.0)\n"
          ]
        }
      ]
    },
    {
      "cell_type": "code",
      "metadata": {
        "id": "Cdi-hTj2JfRk",
        "colab": {
          "base_uri": "https://localhost:8080/"
        },
        "outputId": "695e758a-aa2b-49c0-fe5e-b23704633e92"
      },
      "source": [
        "#!pip install streamlit\n",
        "!pip install --upgrade streamlit\n"
      ],
      "execution_count": null,
      "outputs": [
        {
          "output_type": "stream",
          "name": "stdout",
          "text": [
            "Collecting streamlit\n",
            "  Downloading streamlit-1.8.0-py2.py3-none-any.whl (10.1 MB)\n",
            "\u001b[K     |████████████████████████████████| 10.1 MB 7.6 MB/s \n",
            "\u001b[?25hRequirement already satisfied: requests in /usr/local/lib/python3.7/dist-packages (from streamlit) (2.23.0)\n",
            "Requirement already satisfied: pillow>=6.2.0 in /usr/local/lib/python3.7/dist-packages (from streamlit) (7.1.2)\n",
            "Requirement already satisfied: pandas>=0.21.0 in /usr/local/lib/python3.7/dist-packages (from streamlit) (1.3.5)\n",
            "Requirement already satisfied: typing-extensions in /usr/local/lib/python3.7/dist-packages (from streamlit) (3.10.0.2)\n",
            "Requirement already satisfied: cachetools>=4.0 in /usr/local/lib/python3.7/dist-packages (from streamlit) (4.2.4)\n",
            "Requirement already satisfied: tzlocal in /usr/local/lib/python3.7/dist-packages (from streamlit) (1.5.1)\n",
            "Collecting validators\n",
            "  Downloading validators-0.18.2-py3-none-any.whl (19 kB)\n",
            "Requirement already satisfied: importlib-metadata>=1.4 in /usr/local/lib/python3.7/dist-packages (from streamlit) (4.11.3)\n",
            "Requirement already satisfied: semver in /usr/local/lib/python3.7/dist-packages (from streamlit) (2.13.0)\n",
            "Requirement already satisfied: packaging in /usr/local/lib/python3.7/dist-packages (from streamlit) (21.3)\n",
            "Requirement already satisfied: tornado>=5.0 in /usr/local/lib/python3.7/dist-packages (from streamlit) (5.1.1)\n",
            "Requirement already satisfied: python-dateutil in /usr/local/lib/python3.7/dist-packages (from streamlit) (2.8.2)\n",
            "Requirement already satisfied: protobuf!=3.11,>=3.6.0 in /usr/local/lib/python3.7/dist-packages (from streamlit) (3.17.3)\n",
            "Requirement already satisfied: click>=7.0 in /usr/local/lib/python3.7/dist-packages (from streamlit) (7.1.2)\n",
            "Collecting watchdog\n",
            "  Downloading watchdog-2.1.7-py3-none-manylinux2014_x86_64.whl (76 kB)\n",
            "\u001b[K     |████████████████████████████████| 76 kB 5.2 MB/s \n",
            "\u001b[?25hRequirement already satisfied: attrs in /usr/local/lib/python3.7/dist-packages (from streamlit) (21.4.0)\n",
            "Requirement already satisfied: altair>=3.2.0 in /usr/local/lib/python3.7/dist-packages (from streamlit) (4.2.0)\n",
            "Collecting blinker\n",
            "  Downloading blinker-1.4.tar.gz (111 kB)\n",
            "\u001b[K     |████████████████████████████████| 111 kB 55.1 MB/s \n",
            "\u001b[?25hCollecting pympler>=0.9\n",
            "  Downloading Pympler-1.0.1-py3-none-any.whl (164 kB)\n",
            "\u001b[K     |████████████████████████████████| 164 kB 51.7 MB/s \n",
            "\u001b[?25hCollecting toml\n",
            "  Downloading toml-0.10.2-py2.py3-none-any.whl (16 kB)\n",
            "Requirement already satisfied: numpy in /usr/local/lib/python3.7/dist-packages (from streamlit) (1.21.5)\n",
            "Collecting gitpython!=3.1.19\n",
            "  Downloading GitPython-3.1.27-py3-none-any.whl (181 kB)\n",
            "\u001b[K     |████████████████████████████████| 181 kB 51.2 MB/s \n",
            "\u001b[?25hCollecting pydeck>=0.1.dev5\n",
            "  Downloading pydeck-0.7.1-py2.py3-none-any.whl (4.3 MB)\n",
            "\u001b[K     |████████████████████████████████| 4.3 MB 38.6 MB/s \n",
            "\u001b[?25hRequirement already satisfied: pyarrow in /usr/local/lib/python3.7/dist-packages (from streamlit) (6.0.1)\n",
            "Requirement already satisfied: toolz in /usr/local/lib/python3.7/dist-packages (from altair>=3.2.0->streamlit) (0.11.2)\n",
            "Requirement already satisfied: jsonschema>=3.0 in /usr/local/lib/python3.7/dist-packages (from altair>=3.2.0->streamlit) (4.3.3)\n",
            "Requirement already satisfied: jinja2 in /usr/local/lib/python3.7/dist-packages (from altair>=3.2.0->streamlit) (2.11.3)\n",
            "Requirement already satisfied: entrypoints in /usr/local/lib/python3.7/dist-packages (from altair>=3.2.0->streamlit) (0.4)\n",
            "Collecting gitdb<5,>=4.0.1\n",
            "  Downloading gitdb-4.0.9-py3-none-any.whl (63 kB)\n",
            "\u001b[K     |████████████████████████████████| 63 kB 1.6 MB/s \n",
            "\u001b[?25hCollecting smmap<6,>=3.0.1\n",
            "  Downloading smmap-5.0.0-py3-none-any.whl (24 kB)\n",
            "Requirement already satisfied: zipp>=0.5 in /usr/local/lib/python3.7/dist-packages (from importlib-metadata>=1.4->streamlit) (3.7.0)\n",
            "Requirement already satisfied: pyrsistent!=0.17.0,!=0.17.1,!=0.17.2,>=0.14.0 in /usr/local/lib/python3.7/dist-packages (from jsonschema>=3.0->altair>=3.2.0->streamlit) (0.18.1)\n",
            "Requirement already satisfied: importlib-resources>=1.4.0 in /usr/local/lib/python3.7/dist-packages (from jsonschema>=3.0->altair>=3.2.0->streamlit) (5.4.0)\n",
            "Requirement already satisfied: pytz>=2017.3 in /usr/local/lib/python3.7/dist-packages (from pandas>=0.21.0->streamlit) (2018.9)\n",
            "Requirement already satisfied: six>=1.9 in /usr/local/lib/python3.7/dist-packages (from protobuf!=3.11,>=3.6.0->streamlit) (1.15.0)\n",
            "Requirement already satisfied: ipykernel>=5.1.2 in /usr/local/lib/python3.7/dist-packages (from pydeck>=0.1.dev5->streamlit) (6.9.2)\n",
            "Requirement already satisfied: ipywidgets>=7.0.0 in /usr/local/lib/python3.7/dist-packages (from pydeck>=0.1.dev5->streamlit) (7.7.0)\n",
            "Requirement already satisfied: traitlets>=4.3.2 in /usr/local/lib/python3.7/dist-packages (from pydeck>=0.1.dev5->streamlit) (5.1.1)\n",
            "Requirement already satisfied: nest-asyncio in /usr/local/lib/python3.7/dist-packages (from ipykernel>=5.1.2->pydeck>=0.1.dev5->streamlit) (1.5.4)\n",
            "Requirement already satisfied: ipython>=7.23.1 in /usr/local/lib/python3.7/dist-packages (from ipykernel>=5.1.2->pydeck>=0.1.dev5->streamlit) (7.32.0)\n",
            "Requirement already satisfied: psutil in /usr/local/lib/python3.7/dist-packages (from ipykernel>=5.1.2->pydeck>=0.1.dev5->streamlit) (5.4.8)\n",
            "Requirement already satisfied: jupyter-client<8.0 in /usr/local/lib/python3.7/dist-packages (from ipykernel>=5.1.2->pydeck>=0.1.dev5->streamlit) (5.3.5)\n",
            "Requirement already satisfied: matplotlib-inline<0.2.0,>=0.1.0 in /usr/local/lib/python3.7/dist-packages (from ipykernel>=5.1.2->pydeck>=0.1.dev5->streamlit) (0.1.3)\n",
            "Requirement already satisfied: debugpy<2.0,>=1.0.0 in /usr/local/lib/python3.7/dist-packages (from ipykernel>=5.1.2->pydeck>=0.1.dev5->streamlit) (1.0.0)\n",
            "Requirement already satisfied: pickleshare in /usr/local/lib/python3.7/dist-packages (from ipython>=7.23.1->ipykernel>=5.1.2->pydeck>=0.1.dev5->streamlit) (0.7.5)\n",
            "Requirement already satisfied: jedi>=0.16 in /usr/local/lib/python3.7/dist-packages (from ipython>=7.23.1->ipykernel>=5.1.2->pydeck>=0.1.dev5->streamlit) (0.18.1)\n",
            "Requirement already satisfied: setuptools>=18.5 in /usr/local/lib/python3.7/dist-packages (from ipython>=7.23.1->ipykernel>=5.1.2->pydeck>=0.1.dev5->streamlit) (57.4.0)\n",
            "Requirement already satisfied: pygments in /usr/local/lib/python3.7/dist-packages (from ipython>=7.23.1->ipykernel>=5.1.2->pydeck>=0.1.dev5->streamlit) (2.6.1)\n",
            "Requirement already satisfied: backcall in /usr/local/lib/python3.7/dist-packages (from ipython>=7.23.1->ipykernel>=5.1.2->pydeck>=0.1.dev5->streamlit) (0.2.0)\n",
            "Requirement already satisfied: pexpect>4.3 in /usr/local/lib/python3.7/dist-packages (from ipython>=7.23.1->ipykernel>=5.1.2->pydeck>=0.1.dev5->streamlit) (4.8.0)\n",
            "Requirement already satisfied: decorator in /usr/local/lib/python3.7/dist-packages (from ipython>=7.23.1->ipykernel>=5.1.2->pydeck>=0.1.dev5->streamlit) (4.4.2)\n",
            "Requirement already satisfied: prompt-toolkit!=3.0.0,!=3.0.1,<3.1.0,>=2.0.0 in /usr/local/lib/python3.7/dist-packages (from ipython>=7.23.1->ipykernel>=5.1.2->pydeck>=0.1.dev5->streamlit) (3.0.28)\n",
            "Requirement already satisfied: nbformat>=4.2.0 in /usr/local/lib/python3.7/dist-packages (from ipywidgets>=7.0.0->pydeck>=0.1.dev5->streamlit) (5.2.0)\n",
            "Requirement already satisfied: jupyterlab-widgets>=1.0.0 in /usr/local/lib/python3.7/dist-packages (from ipywidgets>=7.0.0->pydeck>=0.1.dev5->streamlit) (1.1.0)\n",
            "Requirement already satisfied: widgetsnbextension~=3.6.0 in /usr/local/lib/python3.7/dist-packages (from ipywidgets>=7.0.0->pydeck>=0.1.dev5->streamlit) (3.6.0)\n",
            "Requirement already satisfied: ipython-genutils~=0.2.0 in /usr/local/lib/python3.7/dist-packages (from ipywidgets>=7.0.0->pydeck>=0.1.dev5->streamlit) (0.2.0)\n",
            "Requirement already satisfied: parso<0.9.0,>=0.8.0 in /usr/local/lib/python3.7/dist-packages (from jedi>=0.16->ipython>=7.23.1->ipykernel>=5.1.2->pydeck>=0.1.dev5->streamlit) (0.8.3)\n",
            "Requirement already satisfied: MarkupSafe>=0.23 in /usr/local/lib/python3.7/dist-packages (from jinja2->altair>=3.2.0->streamlit) (2.0.1)\n",
            "Requirement already satisfied: pyzmq>=13 in /usr/local/lib/python3.7/dist-packages (from jupyter-client<8.0->ipykernel>=5.1.2->pydeck>=0.1.dev5->streamlit) (22.3.0)\n",
            "Requirement already satisfied: jupyter-core>=4.6.0 in /usr/local/lib/python3.7/dist-packages (from jupyter-client<8.0->ipykernel>=5.1.2->pydeck>=0.1.dev5->streamlit) (4.9.2)\n",
            "Requirement already satisfied: ptyprocess>=0.5 in /usr/local/lib/python3.7/dist-packages (from pexpect>4.3->ipython>=7.23.1->ipykernel>=5.1.2->pydeck>=0.1.dev5->streamlit) (0.7.0)\n",
            "Requirement already satisfied: wcwidth in /usr/local/lib/python3.7/dist-packages (from prompt-toolkit!=3.0.0,!=3.0.1,<3.1.0,>=2.0.0->ipython>=7.23.1->ipykernel>=5.1.2->pydeck>=0.1.dev5->streamlit) (0.2.5)\n",
            "Requirement already satisfied: notebook>=4.4.1 in /usr/local/lib/python3.7/dist-packages (from widgetsnbextension~=3.6.0->ipywidgets>=7.0.0->pydeck>=0.1.dev5->streamlit) (5.3.1)\n",
            "Requirement already satisfied: Send2Trash in /usr/local/lib/python3.7/dist-packages (from notebook>=4.4.1->widgetsnbextension~=3.6.0->ipywidgets>=7.0.0->pydeck>=0.1.dev5->streamlit) (1.8.0)\n",
            "Requirement already satisfied: terminado>=0.8.1 in /usr/local/lib/python3.7/dist-packages (from notebook>=4.4.1->widgetsnbextension~=3.6.0->ipywidgets>=7.0.0->pydeck>=0.1.dev5->streamlit) (0.13.3)\n",
            "Requirement already satisfied: nbconvert in /usr/local/lib/python3.7/dist-packages (from notebook>=4.4.1->widgetsnbextension~=3.6.0->ipywidgets>=7.0.0->pydeck>=0.1.dev5->streamlit) (5.6.1)\n",
            "Requirement already satisfied: testpath in /usr/local/lib/python3.7/dist-packages (from nbconvert->notebook>=4.4.1->widgetsnbextension~=3.6.0->ipywidgets>=7.0.0->pydeck>=0.1.dev5->streamlit) (0.6.0)\n",
            "Requirement already satisfied: mistune<2,>=0.8.1 in /usr/local/lib/python3.7/dist-packages (from nbconvert->notebook>=4.4.1->widgetsnbextension~=3.6.0->ipywidgets>=7.0.0->pydeck>=0.1.dev5->streamlit) (0.8.4)\n",
            "Requirement already satisfied: defusedxml in /usr/local/lib/python3.7/dist-packages (from nbconvert->notebook>=4.4.1->widgetsnbextension~=3.6.0->ipywidgets>=7.0.0->pydeck>=0.1.dev5->streamlit) (0.7.1)\n",
            "Requirement already satisfied: bleach in /usr/local/lib/python3.7/dist-packages (from nbconvert->notebook>=4.4.1->widgetsnbextension~=3.6.0->ipywidgets>=7.0.0->pydeck>=0.1.dev5->streamlit) (4.1.0)\n",
            "Requirement already satisfied: pandocfilters>=1.4.1 in /usr/local/lib/python3.7/dist-packages (from nbconvert->notebook>=4.4.1->widgetsnbextension~=3.6.0->ipywidgets>=7.0.0->pydeck>=0.1.dev5->streamlit) (1.5.0)\n",
            "Requirement already satisfied: webencodings in /usr/local/lib/python3.7/dist-packages (from bleach->nbconvert->notebook>=4.4.1->widgetsnbextension~=3.6.0->ipywidgets>=7.0.0->pydeck>=0.1.dev5->streamlit) (0.5.1)\n",
            "Requirement already satisfied: pyparsing!=3.0.5,>=2.0.2 in /usr/local/lib/python3.7/dist-packages (from packaging->streamlit) (3.0.7)\n",
            "Requirement already satisfied: chardet<4,>=3.0.2 in /usr/local/lib/python3.7/dist-packages (from requests->streamlit) (3.0.4)\n",
            "Requirement already satisfied: idna<3,>=2.5 in /usr/local/lib/python3.7/dist-packages (from requests->streamlit) (2.10)\n",
            "Requirement already satisfied: certifi>=2017.4.17 in /usr/local/lib/python3.7/dist-packages (from requests->streamlit) (2021.10.8)\n",
            "Requirement already satisfied: urllib3!=1.25.0,!=1.25.1,<1.26,>=1.21.1 in /usr/local/lib/python3.7/dist-packages (from requests->streamlit) (1.24.3)\n",
            "Building wheels for collected packages: blinker\n",
            "  Building wheel for blinker (setup.py) ... \u001b[?25l\u001b[?25hdone\n",
            "  Created wheel for blinker: filename=blinker-1.4-py3-none-any.whl size=13478 sha256=b0c97ed96dfdc35d27e52a3fb344a1398c47860b08caed5ef6570e71b6667207\n",
            "  Stored in directory: /root/.cache/pip/wheels/22/f5/18/df711b66eb25b21325c132757d4314db9ac5e8dabeaf196eab\n",
            "Successfully built blinker\n",
            "Installing collected packages: smmap, gitdb, watchdog, validators, toml, pympler, pydeck, gitpython, blinker, streamlit\n",
            "Successfully installed blinker-1.4 gitdb-4.0.9 gitpython-3.1.27 pydeck-0.7.1 pympler-1.0.1 smmap-5.0.0 streamlit-1.8.0 toml-0.10.2 validators-0.18.2 watchdog-2.1.7\n"
          ]
        }
      ]
    },
    {
      "cell_type": "code",
      "metadata": {
        "id": "yLTBOakuJ0WL",
        "colab": {
          "base_uri": "https://localhost:8080/"
        },
        "outputId": "126e1b5d-589f-4982-d9cc-0fb9be2c068d"
      },
      "source": [
        "!pip install pyngrok==4.1.1."
      ],
      "execution_count": null,
      "outputs": [
        {
          "output_type": "stream",
          "name": "stdout",
          "text": [
            "Collecting pyngrok==4.1.1.\n",
            "  Downloading pyngrok-4.1.1.tar.gz (18 kB)\n",
            "Requirement already satisfied: future in /usr/local/lib/python3.7/dist-packages (from pyngrok==4.1.1.) (0.16.0)\n",
            "Requirement already satisfied: PyYAML in /usr/local/lib/python3.7/dist-packages (from pyngrok==4.1.1.) (3.13)\n",
            "Building wheels for collected packages: pyngrok\n",
            "  Building wheel for pyngrok (setup.py) ... \u001b[?25l\u001b[?25hdone\n",
            "  Created wheel for pyngrok: filename=pyngrok-4.1.1-py3-none-any.whl size=15983 sha256=424dbe1fc56d2bc594c00a12d123db2a88093228c5bca4038bd14974d67fed6b\n",
            "  Stored in directory: /root/.cache/pip/wheels/b1/d9/12/045a042fee3127dc40ba6f5df2798aa2df38c414bf533ca765\n",
            "Successfully built pyngrok\n",
            "Installing collected packages: pyngrok\n",
            "Successfully installed pyngrok-4.1.1\n"
          ]
        }
      ]
    },
    {
      "cell_type": "code",
      "metadata": {
        "id": "fJrHfvLNXO5z",
        "colab": {
          "base_uri": "https://localhost:8080/"
        },
        "outputId": "adb85295-bfb0-4cbb-90f8-1d08651b50eb"
      },
      "source": [
        "%%writefile img_classification3.py\n",
        "import tensorflow as tf\n",
        "import keras\n",
        "from PIL import Image, ImageOps\n",
        "import numpy as np\n",
        "import cv2\n",
        "from csv import writer \n",
        "import csv\n",
        "import sys\n",
        "import scipy \n",
        "from scipy import stats\n",
        "\n",
        "\n",
        "\n",
        "\n",
        "def teachable_machine_classification(image,model):\n",
        "\n",
        "\n",
        "  size = (150, 150)\n",
        "  image = ImageOps.fit(image, size, Image.ANTIALIAS)\n",
        "  img = np.array(image)\n",
        "  img= cv2.resize(img, (150, 150))\n",
        "  imgg=img.reshape(-1,150,150,3)\n",
        "  labels = []\n",
        "  mod = []\n",
        "  mod.append(tf.keras.models.load_model('/content/drive/MyDrive/streamlitmodel/vgg.h5'))\n",
        "  mod.append(tf.keras.models.load_model('/content/drive/MyDrive/streamlitmodel/vggresmodel.h5'))\n",
        "  mod.append(tf.keras.models.load_model('/content/drive/MyDrive/streamlitmodel/my_modell.h5'))\n",
        "\n",
        "  for m in mod:\n",
        "\n",
        "    #predicts=m.predict_classes(imgg)\n",
        "\n",
        "    predicts=m.predict(imgg) \n",
        "\n",
        "    #predicts=np.argmax(predicts,axis=1)\n",
        "\n",
        "    #predicts = m.predict(imgg)\n",
        "    #predicts = np.round(predicts).astype(int)\n",
        "    #predicts= np.transpose(predicts, (1, 0))\n",
        "    predicts=(predicts > 0.5).astype(np.int)\n",
        "    predicts= np.transpose(predicts, (1, 0))\n",
        "    labels.append(predicts)\n",
        "  #labels.append([resnet.predict_classes(test_data_gen, batch_size=None)])\n",
        "  # Ensemble with voting\n",
        "  labels = np.array(labels)\n",
        "  labels = scipy.stats.mode(labels, axis=0)[0]\n",
        "  labels = np.squeeze(labels)\n",
        "  print(labels)\n",
        "  return labels\n"
      ],
      "execution_count": null,
      "outputs": [
        {
          "output_type": "stream",
          "name": "stdout",
          "text": [
            "Writing img_classification3.py\n"
          ]
        }
      ]
    },
    {
      "cell_type": "code",
      "source": [
        "from google.colab import drive\n",
        "drive.mount('/content/drive')"
      ],
      "metadata": {
        "colab": {
          "base_uri": "https://localhost:8080/"
        },
        "id": "_KuulUqaAXlY",
        "outputId": "a1fe2d0b-1ce5-4e71-ece3-5e10e73b53e8"
      },
      "execution_count": null,
      "outputs": [
        {
          "output_type": "stream",
          "name": "stdout",
          "text": [
            "Drive already mounted at /content/drive; to attempt to forcibly remount, call drive.mount(\"/content/drive\", force_remount=True).\n"
          ]
        }
      ]
    },
    {
      "cell_type": "code",
      "metadata": {
        "id": "8tWSGDjgwlik",
        "colab": {
          "base_uri": "https://localhost:8080/"
        },
        "outputId": "a4be70d9-d67c-45b6-e611-e69af05b0e7c"
      },
      "source": [
        "%%writefile test.py\n",
        "import pandas as pd \n",
        "import streamlit as st\n",
        "import tensorflow as tf\n",
        "import keras\n",
        "from PIL import Image, ImageOps\n",
        "import numpy as np\n",
        "import cv2\n",
        "import scipy \n",
        "from scipy import stats\n",
        "from csv import writer \n",
        "import csv\n",
        "import sys\n",
        "from img_classification3 import teachable_machine_classification\n",
        "\n",
        "\n",
        "\n",
        "def test(phone,password):\n",
        "\n",
        "\n",
        "  st.title(\"Image Classification with CNN\")\n",
        "  st.header(\"CT scan Classification\")\n",
        "  st.text(\"Upload a CT scan Image for image classification as COVID 19 or NON COVID\")\n",
        "\n",
        "  \n",
        "\n",
        "  uploaded_file = st.file_uploader(\"Choose a lung CT scan ...\", type=[\"jpg\",\"png\"])\n",
        "\n",
        "  if uploaded_file is not None:\n",
        "\n",
        "    image = Image.open(uploaded_file)\n",
        "    st.image(image, caption='Uploaded CT scan', use_column_width=True)\n",
        "    st.write(\"Detecting...\")\n",
        "    label = teachable_machine_classification(image, 2)\n",
        "    \n",
        "    return label\n",
        "\n",
        "\n"
      ],
      "execution_count": null,
      "outputs": [
        {
          "output_type": "stream",
          "name": "stdout",
          "text": [
            "Writing test.py\n"
          ]
        }
      ]
    },
    {
      "cell_type": "code",
      "metadata": {
        "id": "7eEwwaDHk0Br",
        "colab": {
          "base_uri": "https://localhost:8080/"
        },
        "outputId": "ca87e4ae-b183-4cc4-9e9c-88d987921a2d"
      },
      "source": [
        "%%writefile img_classification32.py\n",
        "import tensorflow as tf\n",
        "import keras\n",
        "from PIL import Image, ImageOps\n",
        "import numpy as np\n",
        "import cv2\n",
        "from csv import writer \n",
        "import csv\n",
        "import sys\n",
        "import scipy \n",
        "from scipy import stats\n",
        "\n",
        "\n",
        "\n",
        "\n",
        "def teachable_machine_classification2(image,model):\n",
        "\n",
        "\n",
        "\n",
        "  size = (150, 150)\n",
        "  image = ImageOps.fit(image, size, Image.ANTIALIAS)\n",
        "  img = np.asarray(image)\n",
        "  img= cv2.resize(img, (150, 150))\n",
        "  imgg=img.reshape(-1,150,150,3)\n",
        "\n",
        "  labels = []\n",
        "  mod = []\n",
        "  mod.append(tf.keras.models.load_model('/content/drive/MyDrive/streamlitmodel/xmy_model.h5'))\n",
        "  mod.append(tf.keras.models.load_model('/content/drive/MyDrive/streamlitmodel/vggresx.h5'))\n",
        "  mod.append(tf.keras.models.load_model('/content/drive/MyDrive/streamlitmodel/vggx.h5'))\n",
        "  for m in mod:\n",
        "\n",
        "    #predicts=m.predict_classes(imgg)\n",
        "    predicts=m.predict(imgg) \n",
        "    #predicts=np.argmax(predicts,axis=1)\n",
        "    #predicts= np.transpose(predicts, (1, 0))\n",
        "    predicts=(predicts > 0.5).astype(np.int)\n",
        "    predicts= np.transpose(predicts, (1, 0))\n",
        "    labels.append(predicts)\n",
        "  #labels.append([resnet.predict_classes(test_data_gen, batch_size=None)])\n",
        "  # Ensemble with voting\n",
        "  labels = np.array(labels)\n",
        "  labels = scipy.stats.mode(labels, axis=0)[0]\n",
        "  labels = np.squeeze(labels)\n",
        "  print(labels)\n",
        "  return labels"
      ],
      "execution_count": null,
      "outputs": [
        {
          "output_type": "stream",
          "name": "stdout",
          "text": [
            "Writing img_classification32.py\n"
          ]
        }
      ]
    },
    {
      "cell_type": "code",
      "metadata": {
        "id": "FJtB6PCikuZh",
        "colab": {
          "base_uri": "https://localhost:8080/"
        },
        "outputId": "118db3e1-ce1d-4583-b352-0b951e5f3bd6"
      },
      "source": [
        "%%writefile test2.py\n",
        "import pandas as pd \n",
        "import streamlit as st\n",
        "import tensorflow as tf\n",
        "import keras\n",
        "from PIL import Image, ImageOps\n",
        "import numpy as np\n",
        "import cv2\n",
        "import scipy \n",
        "from scipy import stats\n",
        "from csv import writer \n",
        "import csv\n",
        "import sys\n",
        "from img_classification32 import teachable_machine_classification2\n",
        "\n",
        "\n",
        "\n",
        "def test2(phone,password):\n",
        "\n",
        "  \n",
        "  st.title(\"Image Classification with CNN\")\n",
        "  st.header(\"X-ray Classification\")\n",
        "  st.text(\"Upload a X-ray Image for image classification as COVID 19 or NON COVID\")\n",
        "  \n",
        "\n",
        "  uploaded_file = st.file_uploader(\"Choose a chest X-ray ...\", type=[\"jpg\",\"png\"])\n",
        "\n",
        "  if uploaded_file is not None:\n",
        "\n",
        "    image = Image.open(uploaded_file)\n",
        "    st.image(image, caption='Uploaded X-ray', use_column_width=True)\n",
        "    st.write(\"Detecting...\")\n",
        "    label = teachable_machine_classification2(image, 2)\n",
        "    return label\n",
        "\n",
        "\n"
      ],
      "execution_count": null,
      "outputs": [
        {
          "output_type": "stream",
          "name": "stdout",
          "text": [
            "Writing test2.py\n"
          ]
        }
      ]
    },
    {
      "cell_type": "code",
      "metadata": {
        "id": "lVaKP1LlIfIg",
        "colab": {
          "base_uri": "https://localhost:8080/"
        },
        "outputId": "c061712a-71ee-4691-cbeb-4f2bc96c4a43"
      },
      "source": [
        "\n",
        "%%writefile app.py\n",
        "import pandas as pd \n",
        "import streamlit as st\n",
        "import tensorflow as tf\n",
        "import keras\n",
        "from PIL import Image, ImageOps\n",
        "import numpy as np\n",
        "import cv2\n",
        "import scipy \n",
        "from scipy import stats\n",
        "from csv import writer \n",
        "import csv\n",
        "import sys\n",
        "from img_classification3 import teachable_machine_classification\n",
        "from img_classification32 import teachable_machine_classification2\n",
        "from test import test\n",
        "from test2 import test2\n",
        "from PIL import Image\n",
        "img10 = Image.open(\"/content/drive/MyDrive/streamlitmodel/fig-1-full.png\")\n",
        " \n",
        "# display image using streamlit\n",
        "# width is used to set the width of an image\n",
        "\n",
        "\n",
        "\n",
        "\n",
        "\n",
        "\n",
        "def main():\n",
        "  phone=-1\n",
        "  password=-1\n",
        "  phone2=-1\n",
        "  password2=-1\n",
        "  flag=0\n",
        "  menu=[\"home\",\"login\",\"registration\",\"logout\"]\n",
        "  choice=st.sidebar.selectbox(\"Menu\",menu)\n",
        "  if choice==\"home\":\n",
        "    st.subheader(\"Home Page\")\n",
        "    #st.title(\"Welcome to Online COVID-19 Detection \\n\\n\")\n",
        "    st.markdown(\"<h1 style='text-align: center; color: blue;'>Welcome to Online COVID-19 Detection </h1>\", unsafe_allow_html=True)\n",
        "    col1, col2, col3 = st.columns([0.2, 5, 0.2])\n",
        "    #st.image(img10, width=400)\n",
        "\n",
        "    col2.image(img10,use_column_width=True)\n",
        "\n",
        "  elif choice==\"login\":\n",
        "\n",
        "    st.subheader(\"Login Page\")\n",
        "    phone=st.text_input(\"Phone Number\")\n",
        "    password=st.text_input(\"Password\",type='password')\n",
        "    csv_file = csv.reader(open('/content/drive/MyDrive/gh.csv', \"r\"))\n",
        "    logbt=st.button(\"Click me for login\") \n",
        "    \n",
        "    if logbt:\n",
        "      for row in csv_file:\n",
        "        if phone == row[2] and password==row[3]:\n",
        "          flag=1\n",
        "          #st.write(\"login successful\")\n",
        "          st.markdown(\"<p style='text-align: left; font-size: 25px; color: green;'>Login Successful </p>\", unsafe_allow_html=True)\n",
        "\n",
        "          break\n",
        "      if flag==0:\n",
        "        logbt=False\n",
        "        #st.write(\"you re not registered. click registration button\")\n",
        "        st.markdown(\"<p style='text-align: left; font-size: 25px; color: red;'>You are not registered.</p>\", unsafe_allow_html=True)\n",
        "        st.markdown(\"<p style='text-align: left; font-size: 25px; color: blue;'>Click registration button.</p>\", unsafe_allow_html=True)\n",
        "\n",
        "\n",
        "\n",
        "    if logbt:\n",
        "      df = pd.read_csv(\"/content/drive/MyDrive/g.csv\") \n",
        "      df.loc[0, 'A'] = \"1\"\n",
        "      df.to_csv(\"/content/drive/MyDrive/g.csv\", index=False) \n",
        "\n",
        "\n",
        "\n",
        "\n",
        "    df = pd.read_csv(\"/content/drive/MyDrive/g.csv\") \n",
        "    df2=pd.DataFrame(df.iloc[-1:,:].values) \n",
        "    d=df2[0][0]\n",
        "    if d==1:\n",
        "    \n",
        "      choice2=st.selectbox(\"test\",[\"select\",\"ct and xray\"])\n",
        "      if choice2==\"ct and xray\":\n",
        "\n",
        "\n",
        "\n",
        "        \n",
        "        label1=test(phone,password)\n",
        "        label2=test2(phone,password)\n",
        "\n",
        "        csv_file = csv.reader(open('/content/drive/MyDrive/gh.csv', \"r\"))\n",
        "        crow=-1\n",
        "        for row in csv_file:\n",
        "          if phone == row[2] and password==row[3]:\n",
        "            crow=row[0]\n",
        "            break\n",
        "        crow=int(crow)-1 \n",
        "        df = pd.read_csv(\"/content/drive/MyDrive/gh.csv\") \n",
        "        \n",
        "\n",
        "        if label1 == 1 and label2==1:\n",
        "          df.loc[crow, 'detection'] = \"noncovid\"\n",
        "          df.to_csv(\"/content/drive/MyDrive/gh.csv\", index=False) \n",
        "          st.write(\"Not covid infected \")\n",
        "        if label1 == 0 and label2==0:\n",
        "          df.loc[crow, 'detection'] = \"covid\"\n",
        "          df.to_csv(\"/content/drive/MyDrive/gh.csv\", index=False) \n",
        "          st.write(\"Covid infected\")\n",
        "\n",
        "        if label1 == 1 and label2==0:\n",
        "          df.loc[crow, 'xcovid'] = \"covid\"\n",
        "          df.loc[crow, 'ctnoncovid'] = \"noncovid\"\n",
        "          df.loc[crow, 'detection']=\"confusion\"\n",
        "          df.to_csv(\"/content/drive/MyDrive/gh.csv\", index=False) \n",
        "          st.write(\"This system identifying that it is noncovid\")\n",
        "          st.write(\"According to the below references\")\n",
        "          st.markdown(\n",
        "              \"\"\"<a style='display: block; text-align: center;' href=\"https://bmjopen.bmj.com/content/10/11/e042946?fbclid=IwAR0iBrXJOVZ-kXmyRDefGhbX-ROA3tLDeMmiVaWO2nL5IGz1RyjmlOrj3fs\">Research Paper</a>\n",
        "              \"\"\",\n",
        "              unsafe_allow_html=True,\n",
        "          )     \n",
        "          st.markdown(\n",
        "              \"\"\"<a style='display: block; text-align: center;' href=\"https://www.radiologyinfo.org/en/info.cfm?pg=pneumonia&fbclid=IwAR3KlK1mIbIj2JEM7A_736UCCOl0EOnMH52dg4a45n86rubJ6WIb25hQWT4\">Medical Observation</a>\n",
        "              \"\"\",\n",
        "              unsafe_allow_html=True,\n",
        "          ) \n",
        "        if label1 == 0 and label2==1:\n",
        "          df.loc[crow, 'ctcovid'] = \"covid\"\n",
        "          df.loc[crow, 'xnoncovid'] = \"noncovid\"\n",
        "          df.loc[crow, 'detection']=\"confusion\"\n",
        "          df.to_csv(\"/content/drive/MyDrive/gh.csv\", index=False) \n",
        "          st.write(\"This system identifying that it is covid\")\n",
        "          st.write(\"According to the below references\")\n",
        "          st.markdown(\n",
        "              \"\"\"<a style='display: block; text-align: center;' href=\"https://bmjopen.bmj.com/content/10/11/e042946?fbclid=IwAR0iBrXJOVZ-kXmyRDefGhbX-ROA3tLDeMmiVaWO2nL5IGz1RyjmlOrj3fs\">Research Paper</a>\n",
        "              \"\"\",\n",
        "              unsafe_allow_html=True,\n",
        "          )     \n",
        "          st.markdown(\n",
        "              \"\"\"<a style='display: block; text-align: center;' href=\"https://www.radiologyinfo.org/en/info.cfm?pg=pneumonia&fbclid=IwAR3KlK1mIbIj2JEM7A_736UCCOl0EOnMH52dg4a45n86rubJ6WIb25hQWT4\">Medical Observation</a>\n",
        "              \"\"\",\n",
        "              unsafe_allow_html=True,\n",
        "          ) \n",
        "\n",
        "\n",
        "  elif choice==\"registration\":\n",
        "\n",
        "\n",
        "\n",
        "\n",
        "\n",
        "    #st.write(\"registraion\")\n",
        "    st.subheader(\"Registraion Page\")\n",
        "    name=st.text_input(\"Name\")\n",
        "    phone=st.text_input(\"Phone\")\n",
        "    password=st.text_input(\"Password\",type='password')      \n",
        "    df = pd.read_csv(\"/content/drive/MyDrive/gh.csv\") \n",
        "    resbt=st.button(\"Click me for registration\") \n",
        "    if resbt:\n",
        "      df2=pd.DataFrame(df.iloc[-1:,:].values) \n",
        "      crow=df2[0][0]\n",
        "      crow=crow+1\n",
        "\n",
        "      List=[crow,name,phone,password,'',''] \n",
        "\n",
        "      with open('/content/drive/MyDrive/gh.csv', 'a') as f_object:\n",
        "        writer_object = writer(f_object) \n",
        "        writer_object.writerow(List) \n",
        "        f_object.close()\n",
        "      #st.write(\"registered successful\")\n",
        "      st.markdown(\"<p style='text-align: left; font-size: 25px; color: green;'>Registration Successful </p>\", unsafe_allow_html=True)\n",
        "    #st.write(\"phone\")\n",
        "    #st.write(phone)\n",
        "    \n",
        "    if resbt:\n",
        "      df = pd.read_csv(\"/content/drive/MyDrive/g.csv\") \n",
        "      df.loc[0, 'A'] = \"1\"\n",
        "      df.to_csv(\"/content/drive/MyDrive/g.csv\", index=False) \n",
        "\n",
        "\n",
        "\n",
        "\n",
        "    df = pd.read_csv(\"/content/drive/MyDrive/g.csv\") \n",
        "    df2=pd.DataFrame(df.iloc[-1:,:].values) \n",
        "    d=df2[0][0]\n",
        "    if d==1:\n",
        "      \n",
        "      choice2=st.selectbox(\"test\",[\"select\",\"ct and xray\"])\n",
        "      if choice2==\"ct and xray\":\n",
        "\n",
        "\n",
        "\n",
        "     \n",
        "        label1=test(phone,password)\n",
        "        label2=test2(phone,password)\n",
        "\n",
        "        csv_file = csv.reader(open('/content/drive/MyDrive/gh.csv', \"r\"))\n",
        "        crow=-1\n",
        "        for row in csv_file:\n",
        "          if phone == row[2] and password==row[3]:\n",
        "            crow=row[0]\n",
        "            break\n",
        "        crow=int(crow)-1 \n",
        "        df = pd.read_csv(\"/content/drive/MyDrive/gh.csv\") \n",
        "\n",
        "        if label1 == 1 and label2==1:\n",
        "          df.loc[crow, 'detection'] = \"noncovid\"\n",
        "          df.to_csv(\"/content/drive/MyDrive/gh.csv\", index=False) \n",
        "          st.write(\"Not covid infected \")\n",
        "        if label1 == 0 and label2==0:\n",
        "          df.loc[crow, 'detection'] = \"covid\"\n",
        "          df.to_csv(\"/content/drive/MyDrive/gh.csv\", index=False) \n",
        "          st.write(\"Covid infected\")\n",
        "\n",
        "        if label1 == 1 and label2==0:\n",
        "          df.loc[crow, 'xcovid'] = \"covid\"\n",
        "          df.loc[crow, 'ctnoncovid'] = \"noncovid\"\n",
        "          df.loc[crow, 'detection']=\"confusion\"\n",
        "          df.to_csv(\"/content/drive/MyDrive/gh.csv\", index=False) \n",
        "          st.write(\"This system identifying that it is noncovid\")\n",
        "          st.write(\"According to the below references\")\n",
        "          st.markdown(\n",
        "              \"\"\"<a style='display: block; text-align: center;' href=\"https://bmjopen.bmj.com/content/10/11/e042946?fbclid=IwAR0iBrXJOVZ-kXmyRDefGhbX-ROA3tLDeMmiVaWO2nL5IGz1RyjmlOrj3fs\">Research Paper</a>\n",
        "              \"\"\",\n",
        "              unsafe_allow_html=True,\n",
        "          )          \n",
        "          \n",
        "          st.markdown(\n",
        "              \"\"\"<a style='display: block; text-align: center;' href=\"https://www.radiologyinfo.org/en/info.cfm?pg=pneumonia&fbclid=IwAR3KlK1mIbIj2JEM7A_736UCCOl0EOnMH52dg4a45n86rubJ6WIb25hQWT4\">Medical Observation</a>\n",
        "              \"\"\",\n",
        "              unsafe_allow_html=True,\n",
        "          )  \n",
        "\n",
        "        if label1 == 0 and label2==1:\n",
        "          df.loc[crow, 'ctcovid'] = \"covid\"\n",
        "          df.loc[crow, 'xnoncovid'] = \"noncovid\"\n",
        "          df.loc[crow, 'detection']=\"confusion\"\n",
        "          df.to_csv(\"/content/drive/MyDrive/gh.csv\", index=False) \n",
        "          st.write(\"This system identifying that it is covid\")\n",
        "          st.write(\"According to the below references\")\n",
        "          st.markdown(\n",
        "              \"\"\"<a style='display: block; text-align: center;' href=\"https://bmjopen.bmj.com/content/10/11/e042946?fbclid=IwAR0iBrXJOVZ-kXmyRDefGhbX-ROA3tLDeMmiVaWO2nL5IGz1RyjmlOrj3fs\">Research paper</a>\n",
        "              \"\"\",\n",
        "              unsafe_allow_html=True,\n",
        "          )     \n",
        "          st.markdown(\n",
        "              \"\"\"<a style='display: block; text-align: center;' href=\"https://www.radiologyinfo.org/en/info.cfm?pg=pneumonia&fbclid=IwAR3KlK1mIbIj2JEM7A_736UCCOl0EOnMH52dg4a45n86rubJ6WIb25hQWT4\">Medical Observation</a>\n",
        "              \"\"\",\n",
        "              unsafe_allow_html=True,\n",
        "          )  \n",
        "  elif choice==\"logout\":\n",
        "    st.subheader(\"Logout Page\")\n",
        "    phone=-1\n",
        "    password=-1\n",
        "    flag=0\n",
        "    st.markdown(\"<p style='text-align: left; font-size: 25px; color: green;'>You are logged out.</p>\", unsafe_allow_html=True)\n",
        "\n",
        "    df = pd.read_csv(\"/content/drive/MyDrive/g.csv\") \n",
        "    df.loc[0, 'A'] = \"0\"\n",
        "    df.to_csv(\"/content/drive/MyDrive/g.csv\", index=False)   \n",
        "\n",
        "    st.write(\"\\n \\n \\n\")  \n",
        "\n",
        "    st.markdown(\"<p style='text-align: center; font-size: 20px; color: blue;'>Have a good day.</p>\", unsafe_allow_html=True)\n",
        "\n",
        "main()\n"
      ],
      "execution_count": null,
      "outputs": [
        {
          "output_type": "stream",
          "name": "stdout",
          "text": [
            "Writing app.py\n"
          ]
        }
      ]
    },
    {
      "cell_type": "code",
      "metadata": {
        "id": "cHRxFOduLGVl",
        "colab": {
          "base_uri": "https://localhost:8080/",
          "height": 70
        },
        "outputId": "492abd80-299c-4da2-d1fe-c48c0b9c54ae"
      },
      "source": [
        "\n",
        "\n",
        "!ngrok authtoken 26rgHmRtMrPommuh8XlK37yRo2k_2N3gNX1hvBJyhFmVxTwnH\n",
        "!nohup streamlit run app.py &\n",
        "!streamlit run app.py &>/dev/null&\n",
        "from pyngrok import ngrok\n",
        "public_url = ngrok.connect(port='8501')\n",
        "public_url \n"
      ],
      "execution_count": null,
      "outputs": [
        {
          "output_type": "stream",
          "name": "stdout",
          "text": [
            "Authtoken saved to configuration file: /root/.ngrok2/ngrok.yml\n",
            "nohup: appending output to 'nohup.out'\n"
          ]
        },
        {
          "output_type": "execute_result",
          "data": {
            "text/plain": [
              "'http://da49-34-83-177-206.ngrok.io'"
            ],
            "application/vnd.google.colaboratory.intrinsic+json": {
              "type": "string"
            }
          },
          "metadata": {},
          "execution_count": 11
        }
      ]
    },
    {
      "cell_type": "code",
      "source": [
        "\n",
        "\"\"\"\n",
        "ngrok.kill()\n",
        "\n",
        "\n",
        "\n",
        "!rm -rf \"/content/app.py\"\n",
        "!rm -rf \"/content/img_classification3.py\"\n",
        "!rm -rf \"/content/img_classification32.py\"\n",
        "!rm -rf \"/content/nohup.out\"\n",
        "!rm -rf \"/content/test.py\"\n",
        "!rm -rf \"/content/test2.py\"\n",
        "\"\"\""
      ],
      "metadata": {
        "id": "hat5Ocv1ZjXi",
        "colab": {
          "base_uri": "https://localhost:8080/",
          "height": 53
        },
        "outputId": "1a33c439-945e-4e9b-f9f6-12b1e7bc1aab"
      },
      "execution_count": null,
      "outputs": [
        {
          "output_type": "execute_result",
          "data": {
            "text/plain": [
              "'\\nngrok.kill()\\n\\n\\n\\n!rm -rf \"/content/app.py\"\\n!rm -rf \"/content/img_classification3.py\"\\n!rm -rf \"/content/img_classification32.py\"\\n!rm -rf \"/content/nohup.out\"\\n!rm -rf \"/content/test.py\"\\n!rm -rf \"/content/test2.py\"\\n'"
            ],
            "application/vnd.google.colaboratory.intrinsic+json": {
              "type": "string"
            }
          },
          "metadata": {},
          "execution_count": 12
        }
      ]
    }
  ]
}